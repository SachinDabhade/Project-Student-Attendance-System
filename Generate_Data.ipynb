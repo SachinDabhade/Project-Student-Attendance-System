{
 "cells": [
  {
   "cell_type": "code",
   "execution_count": 1,
   "metadata": {},
   "outputs": [],
   "source": [
    "import pandas as pd\n",
    "import numpy as np\n",
    "import random\n",
    "import _datetime\n",
    "import calendar\n",
    "import mysql.connector\n",
    "from _datetime import date"
   ]
  },
  {
   "cell_type": "code",
   "execution_count": 2,
   "metadata": {},
   "outputs": [],
   "source": [
    "config = {\n",
    "  'user': 'root',\n",
    "  'password': '',\n",
    "  'host': '127.0.0.1',\n",
    "  'database': 'attendance_system',\n",
    "  'raise_on_warnings': True\n",
    "}\n",
    "\n",
    "mydba = mysql.connector.connect(**config)\n",
    "mycursor = mydba.cursor()"
   ]
  },
  {
   "cell_type": "code",
   "execution_count": 3,
   "metadata": {},
   "outputs": [],
   "source": [
    "Years = {'1st': ['Mech', 'Etc', 'Civil', 'CS', 'E&TC', 'DS', 'AI'], '2nd': ['Mech', 'Etc', 'Civil', 'CS', 'E&TC', 'DS'], '3rd': ['Mech', 'Etc', 'Civil', 'CS', 'E&TC'], '4th': ['Mech', 'Etc', 'Civil', 'CS', 'E&TC']}\n",
    "Branches = {'Mech': 180, 'Etc': 120, 'Civil': 60, 'CS': 180, 'DS': 60, 'AI': 60, 'E&TC': 120}\n",
    "Student_Columns = ['ID', 'Roll_No', 'Name', 'Year', 'Branch', 'Division', 'UserName', 'Password', 'City']\n",
    "Cities = ['Pune', 'Mumbai', 'Shirpur', 'Chopda', 'Amalner', 'Parola', 'Bhadgaon', 'Pachora', 'Chalisgaon', 'Shindkheda', 'Dhule', 'Dharangaon']\n",
    "Attendances = ['P', 'A', 'P', 'A', 'P', 'A', 'P', 'P', 'P', 'P']\n",
    "Names = ['A', 'B', 'C', 'D', 'E', 'F', 'G', 'H', 'I', 'J', 'K', 'L', 'M', 'N', 'O', 'P', 'Q', 'R', 'S', 'T', 'U', 'V', 'W', 'X', 'Y', 'Z']"
   ]
  },
  {
   "cell_type": "code",
   "execution_count": 12,
   "metadata": {},
   "outputs": [],
   "source": [
    "# Dependencies\n",
    "Student_Data = pd.DataFrame()\n",
    "\n",
    "\n",
    "Roll_No = []\n",
    "Name = []\n",
    "Year = []\n",
    "Branch = []\n",
    "Division = []\n",
    "UserName = []\n",
    "Password = []\n",
    "City = []"
   ]
  },
  {
   "cell_type": "code",
   "execution_count": 13,
   "metadata": {},
   "outputs": [
    {
     "name": "stdout",
     "output_type": "stream",
     "text": [
      "Creating 1st year Data...\n",
      "Creating Mech branch Data...\n",
      "Creating Etc branch Data...\n",
      "Creating Civil branch Data...\n",
      "Creating CS branch Data...\n",
      "Creating E&TC branch Data...\n",
      "Creating DS branch Data...\n",
      "Creating AI branch Data...\n",
      "Work is done...!\n"
     ]
    }
   ],
   "source": [
    "for year in Years.keys():\n",
    "    print(f\"Creating {year} year Data...\")\n",
    "    for branch in Years[year]:\n",
    "        print(f\"Creating {branch} branch Data...\")\n",
    "        for student in range(Branches[branch]):\n",
    "            student += 1\n",
    "            Roll_No.append(student)\n",
    "            Name.append(random.choice(Names)+random.choice(Names)+random.choice(Names))\n",
    "            Year.append(year)\n",
    "            Branch.append(branch)\n",
    "            if student <= 60 and student > 0:\n",
    "                Division.append('A')\n",
    "            elif student <= 120 and student > 60:\n",
    "                Division.append('B')\n",
    "            else:\n",
    "                Division.append('C')\n",
    "            UserName.append(year+'_'+branch+'_'+str(student))\n",
    "            Password.append(year+'_'+branch+'_'+str(student))\n",
    "            City.append(random.choice(Cities))\n",
    "    print('Work is done...!')\n",
    "    break"
   ]
  },
  {
   "cell_type": "code",
   "execution_count": 14,
   "metadata": {},
   "outputs": [],
   "source": [
    "Student_Data['Roll_No'] = Roll_No\n",
    "Student_Data['Name'] = Name\n",
    "Student_Data['Year'] = Year\n",
    "Student_Data['Branch'] = Branch\n",
    "Student_Data['Division'] = Division\n",
    "Student_Data['UserName'] = UserName\n",
    "Student_Data['Password'] = Password\n",
    "Student_Data['City'] = City"
   ]
  },
  {
   "cell_type": "code",
   "execution_count": 15,
   "metadata": {},
   "outputs": [
    {
     "data": {
      "text/html": [
       "<div>\n",
       "<style scoped>\n",
       "    .dataframe tbody tr th:only-of-type {\n",
       "        vertical-align: middle;\n",
       "    }\n",
       "\n",
       "    .dataframe tbody tr th {\n",
       "        vertical-align: top;\n",
       "    }\n",
       "\n",
       "    .dataframe thead th {\n",
       "        text-align: right;\n",
       "    }\n",
       "</style>\n",
       "<table border=\"1\" class=\"dataframe\">\n",
       "  <thead>\n",
       "    <tr style=\"text-align: right;\">\n",
       "      <th></th>\n",
       "      <th>Roll_No</th>\n",
       "      <th>Name</th>\n",
       "      <th>Year</th>\n",
       "      <th>Branch</th>\n",
       "      <th>Division</th>\n",
       "      <th>UserName</th>\n",
       "      <th>Password</th>\n",
       "      <th>City</th>\n",
       "    </tr>\n",
       "  </thead>\n",
       "  <tbody>\n",
       "    <tr>\n",
       "      <th>0</th>\n",
       "      <td>1</td>\n",
       "      <td>ZUY</td>\n",
       "      <td>1st</td>\n",
       "      <td>Mech</td>\n",
       "      <td>A</td>\n",
       "      <td>1st_Mech_1</td>\n",
       "      <td>1st_Mech_1</td>\n",
       "      <td>Mumbai</td>\n",
       "    </tr>\n",
       "    <tr>\n",
       "      <th>1</th>\n",
       "      <td>2</td>\n",
       "      <td>YFJ</td>\n",
       "      <td>1st</td>\n",
       "      <td>Mech</td>\n",
       "      <td>A</td>\n",
       "      <td>1st_Mech_2</td>\n",
       "      <td>1st_Mech_2</td>\n",
       "      <td>Dharangaon</td>\n",
       "    </tr>\n",
       "    <tr>\n",
       "      <th>2</th>\n",
       "      <td>3</td>\n",
       "      <td>ZRK</td>\n",
       "      <td>1st</td>\n",
       "      <td>Mech</td>\n",
       "      <td>A</td>\n",
       "      <td>1st_Mech_3</td>\n",
       "      <td>1st_Mech_3</td>\n",
       "      <td>Dharangaon</td>\n",
       "    </tr>\n",
       "    <tr>\n",
       "      <th>3</th>\n",
       "      <td>4</td>\n",
       "      <td>RVP</td>\n",
       "      <td>1st</td>\n",
       "      <td>Mech</td>\n",
       "      <td>A</td>\n",
       "      <td>1st_Mech_4</td>\n",
       "      <td>1st_Mech_4</td>\n",
       "      <td>Chopda</td>\n",
       "    </tr>\n",
       "    <tr>\n",
       "      <th>4</th>\n",
       "      <td>5</td>\n",
       "      <td>DBL</td>\n",
       "      <td>1st</td>\n",
       "      <td>Mech</td>\n",
       "      <td>A</td>\n",
       "      <td>1st_Mech_5</td>\n",
       "      <td>1st_Mech_5</td>\n",
       "      <td>Bhadgaon</td>\n",
       "    </tr>\n",
       "  </tbody>\n",
       "</table>\n",
       "</div>"
      ],
      "text/plain": [
       "   Roll_No Name Year Branch Division    UserName    Password        City\n",
       "0        1  ZUY  1st   Mech        A  1st_Mech_1  1st_Mech_1      Mumbai\n",
       "1        2  YFJ  1st   Mech        A  1st_Mech_2  1st_Mech_2  Dharangaon\n",
       "2        3  ZRK  1st   Mech        A  1st_Mech_3  1st_Mech_3  Dharangaon\n",
       "3        4  RVP  1st   Mech        A  1st_Mech_4  1st_Mech_4      Chopda\n",
       "4        5  DBL  1st   Mech        A  1st_Mech_5  1st_Mech_5    Bhadgaon"
      ]
     },
     "execution_count": 15,
     "metadata": {},
     "output_type": "execute_result"
    }
   ],
   "source": [
    "Student_Data.head()"
   ]
  },
  {
   "cell_type": "code",
   "execution_count": 16,
   "metadata": {},
   "outputs": [
    {
     "data": {
      "text/plain": [
       "(780, 8)"
      ]
     },
     "execution_count": 16,
     "metadata": {},
     "output_type": "execute_result"
    }
   ],
   "source": [
    "Student_Data.shape"
   ]
  },
  {
   "cell_type": "code",
   "execution_count": 17,
   "metadata": {},
   "outputs": [],
   "source": [
    "Student_Data.to_csv('Student_Data.csv')"
   ]
  },
  {
   "cell_type": "code",
   "execution_count": null,
   "metadata": {},
   "outputs": [],
   "source": [
    "def Find_Day(date):\n",
    "    born = _datetime.datetime.strptime(str(date), '%Y-%m-%d').weekday()\n",
    "    return (calendar.day_name[born])"
   ]
  },
  {
   "cell_type": "code",
   "execution_count": null,
   "metadata": {
    "tags": [
     "outputPrepend",
     "outputPrepend",
     "outputPrepend",
     "outputPrepend",
     "outputPrepend",
     "outputPrepend",
     "outputPrepend",
     "outputPrepend",
     "outputPrepend",
     "outputPrepend",
     "outputPrepend",
     "outputPrepend",
     "outputPrepend",
     "outputPrepend",
     "outputPrepend",
     "outputPrepend",
     "outputPrepend",
     "outputPrepend",
     "outputPrepend",
     "outputPrepend",
     "outputPrepend",
     "outputPrepend",
     "outputPrepend",
     "outputPrepend",
     "outputPrepend",
     "outputPrepend",
     "outputPrepend",
     "outputPrepend",
     "outputPrepend",
     "outputPrepend",
     "outputPrepend",
     "outputPrepend",
     "outputPrepend",
     "outputPrepend",
     "outputPrepend",
     "outputPrepend",
     "outputPrepend",
     "outputPrepend",
     "outputPrepend",
     "outputPrepend",
     "outputPrepend",
     "outputPrepend",
     "outputPrepend",
     "outputPrepend",
     "outputPrepend",
     "outputPrepend",
     "outputPrepend",
     "outputPrepend",
     "outputPrepend",
     "outputPrepend",
     "outputPrepend",
     "outputPrepend",
     "outputPrepend",
     "outputPrepend",
     "outputPrepend",
     "outputPrepend",
     "outputPrepend",
     "outputPrepend",
     "outputPrepend",
     "outputPrepend",
     "outputPrepend",
     "outputPrepend",
     "outputPrepend",
     "outputPrepend",
     "outputPrepend",
     "outputPrepend",
     "outputPrepend",
     "outputPrepend",
     "outputPrepend",
     "outputPrepend",
     "outputPrepend",
     "outputPrepend",
     "outputPrepend",
     "outputPrepend",
     "outputPrepend",
     "outputPrepend",
     "outputPrepend",
     "outputPrepend",
     "outputPrepend",
     "outputPrepend",
     "outputPrepend",
     "outputPrepend",
     "outputPrepend",
     "outputPrepend",
     "outputPrepend",
     "outputPrepend"
    ]
   },
   "outputs": [],
   "source": [
    "start_date = date(2021, 12, 1)\n",
    "end_date = date(2021, 12, 31)\n",
    "delta = _datetime.timedelta(days=1)\n",
    "Attendance_Data = pd.DataFrame()\n",
    "Attendance_Data['ID'] = Student_Data['ID']\n",
    "columns = []\n",
    "DAY = 0\n",
    "while start_date <= end_date:\n",
    "    DAY += 1\n",
    "    A_data = []\n",
    "    for i in range(len(Student_Data['ID'])):\n",
    "        A_data.append(random.choice(Attendances))\n",
    "    d = 'DAY_'+str(DAY)\n",
    "    Attendance_Data[d] = A_data\n",
    "    x = d+' varchar(20),'\n",
    "    print(x)\n",
    "    start_date += delta"
   ]
  },
  {
   "cell_type": "code",
   "execution_count": null,
   "metadata": {},
   "outputs": [],
   "source": [
    "Student_Data.to_csv('Student_Data.csv')"
   ]
  },
  {
   "cell_type": "code",
   "execution_count": null,
   "metadata": {},
   "outputs": [],
   "source": [
    "Attendance_Data.to_csv('Attendance_Data.csv')"
   ]
  },
  {
   "cell_type": "code",
   "execution_count": null,
   "metadata": {},
   "outputs": [],
   "source": [
    "Attendance_Data.keys()"
   ]
  },
  {
   "cell_type": "code",
   "execution_count": null,
   "metadata": {},
   "outputs": [],
   "source": [
    "# Command to convert csv into sql table\n",
    "\"\"\"LOAD DATA LOCAL INFILE 'FILE_PATH' INTO TABLE 'TABLE_NAME' FIELDS TERMINATED BY ',' LINES TERMINATED BY '\\n' IGNORE 1 ROWS\"\"\""
   ]
  }
 ],
 "metadata": {
  "file_extension": ".py",
  "kernelspec": {
   "display_name": "Python 3.9.4 64-bit",
   "language": "python",
   "name": "python39464bit6f1e7ad1534a4a56b3d3194530af8618"
  },
  "language_info": {
   "codemirror_mode": {
    "name": "ipython",
    "version": 3
   },
   "file_extension": ".py",
   "mimetype": "text/x-python",
   "name": "python",
   "nbconvert_exporter": "python",
   "pygments_lexer": "ipython3",
   "version": "3.9.7"
  },
  "mimetype": "text/x-python",
  "name": "python",
  "npconvert_exporter": "python",
  "pygments_lexer": "ipython3",
  "version": 3
 },
 "nbformat": 4,
 "nbformat_minor": 2
}
